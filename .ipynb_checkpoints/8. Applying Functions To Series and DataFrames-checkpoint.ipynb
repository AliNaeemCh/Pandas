{
 "cells": [
  {
   "cell_type": "markdown",
   "id": "559949eb",
   "metadata": {},
   "source": [
    "# Applying Functions To Series and DataFrames"
   ]
  },
  {
   "cell_type": "code",
   "execution_count": 1,
   "id": "615a61f3",
   "metadata": {},
   "outputs": [],
   "source": [
    "import pandas as pd"
   ]
  },
  {
   "cell_type": "code",
   "execution_count": 2,
   "id": "a4decd74",
   "metadata": {},
   "outputs": [],
   "source": [
    "dict = {\n",
    "    \"email\": [\"CoreyMSchafer@gmail.com\", \"JaneDoe@gmail.com\", \"JohnDoe@gmail.com\"],\n",
    "    \"first\": [\"Corey\", \"Jane\", \"John\"],\n",
    "    \"last\": [\"Schafer\", \"Doe\", \"Doe\"]\n",
    "}"
   ]
  },
  {
   "cell_type": "code",
   "execution_count": 3,
   "id": "5160a7d3",
   "metadata": {},
   "outputs": [],
   "source": [
    "df = pd.DataFrame(dict)"
   ]
  },
  {
   "cell_type": "code",
   "execution_count": 4,
   "id": "d7cd396b",
   "metadata": {},
   "outputs": [
    {
     "data": {
      "text/html": [
       "<div>\n",
       "<style scoped>\n",
       "    .dataframe tbody tr th:only-of-type {\n",
       "        vertical-align: middle;\n",
       "    }\n",
       "\n",
       "    .dataframe tbody tr th {\n",
       "        vertical-align: top;\n",
       "    }\n",
       "\n",
       "    .dataframe thead th {\n",
       "        text-align: right;\n",
       "    }\n",
       "</style>\n",
       "<table border=\"1\" class=\"dataframe\">\n",
       "  <thead>\n",
       "    <tr style=\"text-align: right;\">\n",
       "      <th></th>\n",
       "      <th>email</th>\n",
       "      <th>first</th>\n",
       "      <th>last</th>\n",
       "    </tr>\n",
       "  </thead>\n",
       "  <tbody>\n",
       "    <tr>\n",
       "      <th>0</th>\n",
       "      <td>CoreyMSchafer@gmail.com</td>\n",
       "      <td>Corey</td>\n",
       "      <td>Schafer</td>\n",
       "    </tr>\n",
       "    <tr>\n",
       "      <th>1</th>\n",
       "      <td>JaneDoe@gmail.com</td>\n",
       "      <td>Jane</td>\n",
       "      <td>Doe</td>\n",
       "    </tr>\n",
       "    <tr>\n",
       "      <th>2</th>\n",
       "      <td>JohnDoe@gmail.com</td>\n",
       "      <td>John</td>\n",
       "      <td>Doe</td>\n",
       "    </tr>\n",
       "  </tbody>\n",
       "</table>\n",
       "</div>"
      ],
      "text/plain": [
       "                     email  first     last\n",
       "0  CoreyMSchafer@gmail.com  Corey  Schafer\n",
       "1        JaneDoe@gmail.com   Jane      Doe\n",
       "2        JohnDoe@gmail.com   John      Doe"
      ]
     },
     "execution_count": 4,
     "metadata": {},
     "output_type": "execute_result"
    }
   ],
   "source": [
    "df"
   ]
  },
  {
   "cell_type": "markdown",
   "id": "8e112416",
   "metadata": {},
   "source": [
    "## The apply method\n",
    "- **apply method applies a function to every element in a Series**"
   ]
  },
  {
   "cell_type": "code",
   "execution_count": 5,
   "id": "2a71d91f",
   "metadata": {},
   "outputs": [],
   "source": [
    "def my_func(input):\n",
    "    return input.upper()"
   ]
  },
  {
   "cell_type": "code",
   "execution_count": 6,
   "id": "37189fe9",
   "metadata": {},
   "outputs": [
    {
     "data": {
      "text/html": [
       "<div>\n",
       "<style scoped>\n",
       "    .dataframe tbody tr th:only-of-type {\n",
       "        vertical-align: middle;\n",
       "    }\n",
       "\n",
       "    .dataframe tbody tr th {\n",
       "        vertical-align: top;\n",
       "    }\n",
       "\n",
       "    .dataframe thead th {\n",
       "        text-align: right;\n",
       "    }\n",
       "</style>\n",
       "<table border=\"1\" class=\"dataframe\">\n",
       "  <thead>\n",
       "    <tr style=\"text-align: right;\">\n",
       "      <th></th>\n",
       "      <th>email</th>\n",
       "      <th>first</th>\n",
       "      <th>last</th>\n",
       "    </tr>\n",
       "  </thead>\n",
       "  <tbody>\n",
       "    <tr>\n",
       "      <th>0</th>\n",
       "      <td>COREYMSCHAFER@GMAIL.COM</td>\n",
       "      <td>Corey</td>\n",
       "      <td>Schafer</td>\n",
       "    </tr>\n",
       "    <tr>\n",
       "      <th>1</th>\n",
       "      <td>JANEDOE@GMAIL.COM</td>\n",
       "      <td>Jane</td>\n",
       "      <td>Doe</td>\n",
       "    </tr>\n",
       "    <tr>\n",
       "      <th>2</th>\n",
       "      <td>JOHNDOE@GMAIL.COM</td>\n",
       "      <td>John</td>\n",
       "      <td>Doe</td>\n",
       "    </tr>\n",
       "  </tbody>\n",
       "</table>\n",
       "</div>"
      ],
      "text/plain": [
       "                     email  first     last\n",
       "0  COREYMSCHAFER@GMAIL.COM  Corey  Schafer\n",
       "1        JANEDOE@GMAIL.COM   Jane      Doe\n",
       "2        JOHNDOE@GMAIL.COM   John      Doe"
      ]
     },
     "execution_count": 6,
     "metadata": {},
     "output_type": "execute_result"
    }
   ],
   "source": [
    "# Let's apply my_func method to every element in the email column:\n",
    "df['email'] = df['email'].apply(my_func)\n",
    "df\n",
    "# Note that df['email'] gives a Series."
   ]
  },
  {
   "cell_type": "code",
   "execution_count": 7,
   "id": "4125e276",
   "metadata": {},
   "outputs": [
    {
     "name": "stdout",
     "output_type": "stream",
     "text": [
      "The length of string 'hello' is: 5 \n",
      "\n",
      "\n",
      "The length of every element in 'first' column is:\n"
     ]
    },
    {
     "data": {
      "text/plain": [
       "0    5\n",
       "1    4\n",
       "2    4\n",
       "Name: first, dtype: int64"
      ]
     },
     "execution_count": 7,
     "metadata": {},
     "output_type": "execute_result"
    }
   ],
   "source": [
    "# Applying the default \"len\" function to every element in \"first\" column\n",
    "print(\"The length of string 'hello' is:\", len('hello'), '\\n\\n')\n",
    "print(\"The length of every element in 'first' column is:\")\n",
    "df['first'].apply(len)"
   ]
  },
  {
   "cell_type": "code",
   "execution_count": 8,
   "id": "3e95b173",
   "metadata": {},
   "outputs": [
    {
     "data": {
      "text/html": [
       "<div>\n",
       "<style scoped>\n",
       "    .dataframe tbody tr th:only-of-type {\n",
       "        vertical-align: middle;\n",
       "    }\n",
       "\n",
       "    .dataframe tbody tr th {\n",
       "        vertical-align: top;\n",
       "    }\n",
       "\n",
       "    .dataframe thead th {\n",
       "        text-align: right;\n",
       "    }\n",
       "</style>\n",
       "<table border=\"1\" class=\"dataframe\">\n",
       "  <thead>\n",
       "    <tr style=\"text-align: right;\">\n",
       "      <th></th>\n",
       "      <th>email</th>\n",
       "      <th>first</th>\n",
       "      <th>last</th>\n",
       "    </tr>\n",
       "  </thead>\n",
       "  <tbody>\n",
       "    <tr>\n",
       "      <th>0</th>\n",
       "      <td>coreymschafer@gmail.com</td>\n",
       "      <td>Corey</td>\n",
       "      <td>Schafer</td>\n",
       "    </tr>\n",
       "    <tr>\n",
       "      <th>1</th>\n",
       "      <td>janedoe@gmail.com</td>\n",
       "      <td>Jane</td>\n",
       "      <td>Doe</td>\n",
       "    </tr>\n",
       "    <tr>\n",
       "      <th>2</th>\n",
       "      <td>johndoe@gmail.com</td>\n",
       "      <td>John</td>\n",
       "      <td>Doe</td>\n",
       "    </tr>\n",
       "  </tbody>\n",
       "</table>\n",
       "</div>"
      ],
      "text/plain": [
       "                     email  first     last\n",
       "0  coreymschafer@gmail.com  Corey  Schafer\n",
       "1        janedoe@gmail.com   Jane      Doe\n",
       "2        johndoe@gmail.com   John      Doe"
      ]
     },
     "execution_count": 8,
     "metadata": {},
     "output_type": "execute_result"
    }
   ],
   "source": [
    "# Applying the lambda function\n",
    "df['email'] = df['email'].apply(lambda x: x.lower())\n",
    "df"
   ]
  },
  {
   "cell_type": "markdown",
   "id": "3c74d445",
   "metadata": {},
   "source": [
    "- ### Note that apply function applies to a Series. So, if it is applied to a DataFrame, it will get applied to every column (by default) as a DataFrame is indeed a Series of rows or columns."
   ]
  },
  {
   "cell_type": "code",
   "execution_count": 9,
   "id": "fa4e0296",
   "metadata": {},
   "outputs": [
    {
     "data": {
      "text/plain": [
       "email    coreymschafer@gmail.com\n",
       "first                      Corey\n",
       "last                         Doe\n",
       "dtype: object"
      ]
     },
     "execution_count": 9,
     "metadata": {},
     "output_type": "execute_result"
    }
   ],
   "source": [
    "# Getting the element which comes first in the alphabetical order from each column.\n",
    "# The function which achieves this is: pd.Series.min which takes a Series (column in our case)\n",
    "# and returns the element with minimum numeric value. If applied to a string Series, returns the element which comes\n",
    "# first in the alphabetical order\n",
    "df.apply(pd.Series.min)\n",
    "# By default, apply method applies to the columns if a DataFrame is passed which means the complete syntax is like:\n",
    "# df.apply(pd.Series.min, axis=\"rows\")\n",
    "# axis = \"rows\" means all rows of 1 column are extracted or in other words, A whole column is extracted"
   ]
  },
  {
   "cell_type": "code",
   "execution_count": 10,
   "id": "8fea2e37",
   "metadata": {},
   "outputs": [
    {
     "data": {
      "text/plain": [
       "0    Corey\n",
       "1      Doe\n",
       "2      Doe\n",
       "dtype: object"
      ]
     },
     "execution_count": 10,
     "metadata": {},
     "output_type": "execute_result"
    }
   ],
   "source": [
    "# Getting element with smallest length from each row.\n",
    "# To achieve this, we have to apply min function to all columns of every row.\n",
    "df.apply(lambda x: x.min(), axis = \"columns\")\n",
    "# axis = \"columns\" means all columns of 1 row are extracted in other words, A whole row is extracted"
   ]
  },
  {
   "cell_type": "markdown",
   "id": "7fb77b28",
   "metadata": {},
   "source": [
    "## The map method\n",
    "**1. It applies a function to every element in a DataFrame**\n",
    "\n",
    "**2. It substitutes values in a Series**"
   ]
  },
  {
   "cell_type": "code",
   "execution_count": 11,
   "id": "170d21a3",
   "metadata": {},
   "outputs": [
    {
     "data": {
      "text/html": [
       "<div>\n",
       "<style scoped>\n",
       "    .dataframe tbody tr th:only-of-type {\n",
       "        vertical-align: middle;\n",
       "    }\n",
       "\n",
       "    .dataframe tbody tr th {\n",
       "        vertical-align: top;\n",
       "    }\n",
       "\n",
       "    .dataframe thead th {\n",
       "        text-align: right;\n",
       "    }\n",
       "</style>\n",
       "<table border=\"1\" class=\"dataframe\">\n",
       "  <thead>\n",
       "    <tr style=\"text-align: right;\">\n",
       "      <th></th>\n",
       "      <th>email</th>\n",
       "      <th>first</th>\n",
       "      <th>last</th>\n",
       "    </tr>\n",
       "  </thead>\n",
       "  <tbody>\n",
       "    <tr>\n",
       "      <th>0</th>\n",
       "      <td>23</td>\n",
       "      <td>5</td>\n",
       "      <td>7</td>\n",
       "    </tr>\n",
       "    <tr>\n",
       "      <th>1</th>\n",
       "      <td>17</td>\n",
       "      <td>4</td>\n",
       "      <td>3</td>\n",
       "    </tr>\n",
       "    <tr>\n",
       "      <th>2</th>\n",
       "      <td>17</td>\n",
       "      <td>4</td>\n",
       "      <td>3</td>\n",
       "    </tr>\n",
       "  </tbody>\n",
       "</table>\n",
       "</div>"
      ],
      "text/plain": [
       "   email  first  last\n",
       "0     23      5     7\n",
       "1     17      4     3\n",
       "2     17      4     3"
      ]
     },
     "execution_count": 11,
     "metadata": {},
     "output_type": "execute_result"
    }
   ],
   "source": [
    "# Getting length of every element in the DataFrame\n",
    "df.map(len)"
   ]
  },
  {
   "cell_type": "code",
   "execution_count": 12,
   "id": "4d0d4924",
   "metadata": {},
   "outputs": [
    {
     "data": {
      "text/html": [
       "<div>\n",
       "<style scoped>\n",
       "    .dataframe tbody tr th:only-of-type {\n",
       "        vertical-align: middle;\n",
       "    }\n",
       "\n",
       "    .dataframe tbody tr th {\n",
       "        vertical-align: top;\n",
       "    }\n",
       "\n",
       "    .dataframe thead th {\n",
       "        text-align: right;\n",
       "    }\n",
       "</style>\n",
       "<table border=\"1\" class=\"dataframe\">\n",
       "  <thead>\n",
       "    <tr style=\"text-align: right;\">\n",
       "      <th></th>\n",
       "      <th>email</th>\n",
       "      <th>first</th>\n",
       "      <th>last</th>\n",
       "    </tr>\n",
       "  </thead>\n",
       "  <tbody>\n",
       "    <tr>\n",
       "      <th>0</th>\n",
       "      <td>COREYMSCHAFER@GMAIL.COM</td>\n",
       "      <td>COREY</td>\n",
       "      <td>SCHAFER</td>\n",
       "    </tr>\n",
       "    <tr>\n",
       "      <th>1</th>\n",
       "      <td>JANEDOE@GMAIL.COM</td>\n",
       "      <td>JANE</td>\n",
       "      <td>DOE</td>\n",
       "    </tr>\n",
       "    <tr>\n",
       "      <th>2</th>\n",
       "      <td>JOHNDOE@GMAIL.COM</td>\n",
       "      <td>JOHN</td>\n",
       "      <td>DOE</td>\n",
       "    </tr>\n",
       "  </tbody>\n",
       "</table>\n",
       "</div>"
      ],
      "text/plain": [
       "                     email  first     last\n",
       "0  COREYMSCHAFER@GMAIL.COM  COREY  SCHAFER\n",
       "1        JANEDOE@GMAIL.COM   JANE      DOE\n",
       "2        JOHNDOE@GMAIL.COM   JOHN      DOE"
      ]
     },
     "execution_count": 12,
     "metadata": {},
     "output_type": "execute_result"
    }
   ],
   "source": [
    "# Converting all the elements of a DataFrame to uppercase\n",
    "df_UPPER = df.map(str.upper)\n",
    "df_UPPER"
   ]
  },
  {
   "cell_type": "code",
   "execution_count": 13,
   "id": "6b0f2b07",
   "metadata": {},
   "outputs": [
    {
     "data": {
      "text/plain": [
       "0    Korey\n",
       "1      NaN\n",
       "2      NaN\n",
       "Name: first, dtype: object"
      ]
     },
     "execution_count": 13,
     "metadata": {},
     "output_type": "execute_result"
    }
   ],
   "source": [
    "# Substituting values in a Series\n",
    "df['first'].map( {'Corey': 'Korey'} )\n",
    "# Substitutes every element in 'first' data series or column having value 'Corey' to 'Korey'"
   ]
  },
  {
   "cell_type": "markdown",
   "id": "317a3b02",
   "metadata": {},
   "source": [
    "- **Note that if any element doesn't match the substitution criteria, it is substituted by NaN**"
   ]
  },
  {
   "cell_type": "code",
   "execution_count": 14,
   "id": "8036a28a",
   "metadata": {},
   "outputs": [
    {
     "data": {
      "text/plain": [
       "0    Korey\n",
       "1     Jane\n",
       "2     John\n",
       "Name: first, dtype: object"
      ]
     },
     "execution_count": 14,
     "metadata": {},
     "output_type": "execute_result"
    }
   ],
   "source": [
    "# Substituting only those values in a Series which match the substitution criteria\n",
    "df['first'].replace({'Corey': 'Korey'})"
   ]
  },
  {
   "cell_type": "code",
   "execution_count": 19,
   "id": "156a1e52",
   "metadata": {},
   "outputs": [
    {
     "data": {
      "text/plain": [
       "array(['Schafer', 'Doe'], dtype=object)"
      ]
     },
     "execution_count": 19,
     "metadata": {},
     "output_type": "execute_result"
    }
   ],
   "source": [
    "# Listing unique values\n",
    "df['last'].unique()"
   ]
  }
 ],
 "metadata": {
  "kernelspec": {
   "display_name": "Python 3 (ipykernel)",
   "language": "python",
   "name": "python3"
  },
  "language_info": {
   "codemirror_mode": {
    "name": "ipython",
    "version": 3
   },
   "file_extension": ".py",
   "mimetype": "text/x-python",
   "name": "python",
   "nbconvert_exporter": "python",
   "pygments_lexer": "ipython3",
   "version": "3.11.7"
  }
 },
 "nbformat": 4,
 "nbformat_minor": 5
}
