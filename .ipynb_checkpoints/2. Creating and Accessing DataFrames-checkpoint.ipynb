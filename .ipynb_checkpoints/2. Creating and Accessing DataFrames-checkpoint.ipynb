{
 "cells": [
  {
   "cell_type": "markdown",
   "id": "e14b61bd",
   "metadata": {},
   "source": [
    "# Creating and Accessing DataFrames"
   ]
  },
  {
   "cell_type": "code",
   "execution_count": 1,
   "id": "58e10368",
   "metadata": {},
   "outputs": [],
   "source": [
    "import pandas as pd"
   ]
  },
  {
   "cell_type": "code",
   "execution_count": 4,
   "id": "2311d749",
   "metadata": {},
   "outputs": [
    {
     "data": {
      "text/plain": [
       "{'email': ['amanda@gmail.com', 'mike@gmail.com', 'john@gmail.com'],\n",
       " 'first': ['Amanda', 'Mike', 'John'],\n",
       " 'last': ['Taylor', 'Tyson', 'Doe']}"
      ]
     },
     "execution_count": 4,
     "metadata": {},
     "output_type": "execute_result"
    }
   ],
   "source": [
    "dict = {\n",
    "    \"email\": [\"amanda@gmail.com\", \"mike@gmail.com\", \"john@gmail.com\"],\n",
    "    \"first\": [\"Amanda\", \"Mike\", \"John\"],\n",
    "    \"last\": [\"Taylor\", \"Tyson\", \"Doe\"]\n",
    "}\n",
    "dict"
   ]
  },
  {
   "cell_type": "code",
   "execution_count": 5,
   "id": "7f597faa",
   "metadata": {},
   "outputs": [
    {
     "data": {
      "text/html": [
       "<div>\n",
       "<style scoped>\n",
       "    .dataframe tbody tr th:only-of-type {\n",
       "        vertical-align: middle;\n",
       "    }\n",
       "\n",
       "    .dataframe tbody tr th {\n",
       "        vertical-align: top;\n",
       "    }\n",
       "\n",
       "    .dataframe thead th {\n",
       "        text-align: right;\n",
       "    }\n",
       "</style>\n",
       "<table border=\"1\" class=\"dataframe\">\n",
       "  <thead>\n",
       "    <tr style=\"text-align: right;\">\n",
       "      <th></th>\n",
       "      <th>email</th>\n",
       "      <th>first</th>\n",
       "      <th>last</th>\n",
       "    </tr>\n",
       "  </thead>\n",
       "  <tbody>\n",
       "    <tr>\n",
       "      <th>0</th>\n",
       "      <td>amanda@gmail.com</td>\n",
       "      <td>Amanda</td>\n",
       "      <td>Taylor</td>\n",
       "    </tr>\n",
       "    <tr>\n",
       "      <th>1</th>\n",
       "      <td>mike@gmail.com</td>\n",
       "      <td>Mike</td>\n",
       "      <td>Tyson</td>\n",
       "    </tr>\n",
       "    <tr>\n",
       "      <th>2</th>\n",
       "      <td>john@gmail.com</td>\n",
       "      <td>John</td>\n",
       "      <td>Doe</td>\n",
       "    </tr>\n",
       "  </tbody>\n",
       "</table>\n",
       "</div>"
      ],
      "text/plain": [
       "              email   first    last\n",
       "0  amanda@gmail.com  Amanda  Taylor\n",
       "1    mike@gmail.com    Mike   Tyson\n",
       "2    john@gmail.com    John     Doe"
      ]
     },
     "execution_count": 5,
     "metadata": {},
     "output_type": "execute_result"
    }
   ],
   "source": [
    "df = pd.DataFrame(dict)\n",
    "df"
   ]
  },
  {
   "cell_type": "code",
   "execution_count": 63,
   "id": "a70a3fd9",
   "metadata": {},
   "outputs": [
    {
     "name": "stdout",
     "output_type": "stream",
     "text": [
      "column email is:\n",
      " 0    amanda@gmail.com\n",
      "1      mike@gmail.com\n",
      "2      john@gmail.com\n",
      "Name: email, dtype: object \n",
      "\n",
      "type of email column is: <class 'pandas.core.series.Series'>\n"
     ]
    }
   ],
   "source": [
    "# Accessing a column. Column is extracted as a Pandas Series which is equivalent to a vector or 1D array\n",
    "a = df['email']\n",
    "print('column email is:\\n', a, '\\n')\n",
    "print('type of email column is:', type(a))"
   ]
  },
  {
   "cell_type": "code",
   "execution_count": 18,
   "id": "9a43fbca",
   "metadata": {},
   "outputs": [
    {
     "data": {
      "text/html": [
       "<div>\n",
       "<style scoped>\n",
       "    .dataframe tbody tr th:only-of-type {\n",
       "        vertical-align: middle;\n",
       "    }\n",
       "\n",
       "    .dataframe tbody tr th {\n",
       "        vertical-align: top;\n",
       "    }\n",
       "\n",
       "    .dataframe thead th {\n",
       "        text-align: right;\n",
       "    }\n",
       "</style>\n",
       "<table border=\"1\" class=\"dataframe\">\n",
       "  <thead>\n",
       "    <tr style=\"text-align: right;\">\n",
       "      <th></th>\n",
       "      <th>email</th>\n",
       "      <th>last</th>\n",
       "    </tr>\n",
       "  </thead>\n",
       "  <tbody>\n",
       "    <tr>\n",
       "      <th>0</th>\n",
       "      <td>amanda@gmail.com</td>\n",
       "      <td>Taylor</td>\n",
       "    </tr>\n",
       "    <tr>\n",
       "      <th>1</th>\n",
       "      <td>mike@gmail.com</td>\n",
       "      <td>Tyson</td>\n",
       "    </tr>\n",
       "    <tr>\n",
       "      <th>2</th>\n",
       "      <td>john@gmail.com</td>\n",
       "      <td>Doe</td>\n",
       "    </tr>\n",
       "  </tbody>\n",
       "</table>\n",
       "</div>"
      ],
      "text/plain": [
       "              email    last\n",
       "0  amanda@gmail.com  Taylor\n",
       "1    mike@gmail.com   Tyson\n",
       "2    john@gmail.com     Doe"
      ]
     },
     "execution_count": 18,
     "metadata": {},
     "output_type": "execute_result"
    }
   ],
   "source": [
    "# Accessing multiple columns\n",
    "b = df[ [\"email\", \"last\"] ]\n",
    "b"
   ]
  },
  {
   "cell_type": "code",
   "execution_count": 19,
   "id": "c8e45e75",
   "metadata": {},
   "outputs": [
    {
     "data": {
      "text/plain": [
       "Index(['email', 'first', 'last'], dtype='object')"
      ]
     },
     "execution_count": 19,
     "metadata": {},
     "output_type": "execute_result"
    }
   ],
   "source": [
    "# Listing columns\n",
    "c = df.columns\n",
    "c"
   ]
  },
  {
   "cell_type": "markdown",
   "id": "4b08dcbe",
   "metadata": {},
   "source": [
    "- **By default, pandas assign a unique integer identifier to each row. It is the first unlabelled column.**\n",
    "- **However, there's no unique constraint on this integer identifier. Pandas won't stop you if somehow you get multiple records against one integer id**"
   ]
  },
  {
   "cell_type": "code",
   "execution_count": 42,
   "id": "0f8f5a71",
   "metadata": {},
   "outputs": [
    {
     "data": {
      "text/plain": [
       "email    amanda@gmail.com\n",
       "first              Amanda\n",
       "last               Taylor\n",
       "Name: 0, dtype: object"
      ]
     },
     "execution_count": 42,
     "metadata": {},
     "output_type": "execute_result"
    }
   ],
   "source": [
    "# Accessing a row using the default unique identifier\n",
    "d = df.iloc[0]\n",
    "d"
   ]
  },
  {
   "cell_type": "code",
   "execution_count": 46,
   "id": "74751831",
   "metadata": {},
   "outputs": [
    {
     "name": "stdout",
     "output_type": "stream",
     "text": [
      "multiple rows accessed by explicitly stating the ids:\n"
     ]
    },
    {
     "data": {
      "text/html": [
       "<div>\n",
       "<style scoped>\n",
       "    .dataframe tbody tr th:only-of-type {\n",
       "        vertical-align: middle;\n",
       "    }\n",
       "\n",
       "    .dataframe tbody tr th {\n",
       "        vertical-align: top;\n",
       "    }\n",
       "\n",
       "    .dataframe thead th {\n",
       "        text-align: right;\n",
       "    }\n",
       "</style>\n",
       "<table border=\"1\" class=\"dataframe\">\n",
       "  <thead>\n",
       "    <tr style=\"text-align: right;\">\n",
       "      <th></th>\n",
       "      <th>email</th>\n",
       "      <th>first</th>\n",
       "      <th>last</th>\n",
       "    </tr>\n",
       "  </thead>\n",
       "  <tbody>\n",
       "    <tr>\n",
       "      <th>1</th>\n",
       "      <td>mike@gmail.com</td>\n",
       "      <td>Mike</td>\n",
       "      <td>Tyson</td>\n",
       "    </tr>\n",
       "    <tr>\n",
       "      <th>2</th>\n",
       "      <td>john@gmail.com</td>\n",
       "      <td>John</td>\n",
       "      <td>Doe</td>\n",
       "    </tr>\n",
       "  </tbody>\n",
       "</table>\n",
       "</div>"
      ],
      "text/plain": [
       "            email first   last\n",
       "1  mike@gmail.com  Mike  Tyson\n",
       "2  john@gmail.com  John    Doe"
      ]
     },
     "execution_count": 46,
     "metadata": {},
     "output_type": "execute_result"
    }
   ],
   "source": [
    "# Accessing multiple rows using the default unique identifier\n",
    "e = df.iloc[ [1,2] ]\n",
    "print('multiple rows accessed by explicitly stating the ids:')\n",
    "e"
   ]
  },
  {
   "cell_type": "code",
   "execution_count": 50,
   "id": "7b491a4d",
   "metadata": {},
   "outputs": [
    {
     "name": "stdout",
     "output_type": "stream",
     "text": [
      "multiple rows accessed by slicing syntax:\n"
     ]
    },
    {
     "data": {
      "text/html": [
       "<div>\n",
       "<style scoped>\n",
       "    .dataframe tbody tr th:only-of-type {\n",
       "        vertical-align: middle;\n",
       "    }\n",
       "\n",
       "    .dataframe tbody tr th {\n",
       "        vertical-align: top;\n",
       "    }\n",
       "\n",
       "    .dataframe thead th {\n",
       "        text-align: right;\n",
       "    }\n",
       "</style>\n",
       "<table border=\"1\" class=\"dataframe\">\n",
       "  <thead>\n",
       "    <tr style=\"text-align: right;\">\n",
       "      <th></th>\n",
       "      <th>email</th>\n",
       "      <th>first</th>\n",
       "      <th>last</th>\n",
       "    </tr>\n",
       "  </thead>\n",
       "  <tbody>\n",
       "    <tr>\n",
       "      <th>0</th>\n",
       "      <td>amanda@gmail.com</td>\n",
       "      <td>Amanda</td>\n",
       "      <td>Taylor</td>\n",
       "    </tr>\n",
       "    <tr>\n",
       "      <th>1</th>\n",
       "      <td>mike@gmail.com</td>\n",
       "      <td>Mike</td>\n",
       "      <td>Tyson</td>\n",
       "    </tr>\n",
       "    <tr>\n",
       "      <th>2</th>\n",
       "      <td>john@gmail.com</td>\n",
       "      <td>John</td>\n",
       "      <td>Doe</td>\n",
       "    </tr>\n",
       "  </tbody>\n",
       "</table>\n",
       "</div>"
      ],
      "text/plain": [
       "              email   first    last\n",
       "0  amanda@gmail.com  Amanda  Taylor\n",
       "1    mike@gmail.com    Mike   Tyson\n",
       "2    john@gmail.com    John     Doe"
      ]
     },
     "execution_count": 50,
     "metadata": {},
     "output_type": "execute_result"
    }
   ],
   "source": [
    "# Accessing multiple rows using the default unique identifier\n",
    "print('multiple rows accessed by slicing syntax:')\n",
    "f = df.iloc[0:3]  #Accesses rows 0 to 2 inclusive.\n",
    "f"
   ]
  },
  {
   "cell_type": "code",
   "execution_count": 75,
   "id": "67b6d604",
   "metadata": {},
   "outputs": [
    {
     "name": "stdout",
     "output_type": "stream",
     "text": [
      "second row's first and second columns:\n"
     ]
    },
    {
     "data": {
      "text/html": [
       "<div>\n",
       "<style scoped>\n",
       "    .dataframe tbody tr th:only-of-type {\n",
       "        vertical-align: middle;\n",
       "    }\n",
       "\n",
       "    .dataframe tbody tr th {\n",
       "        vertical-align: top;\n",
       "    }\n",
       "\n",
       "    .dataframe thead th {\n",
       "        text-align: right;\n",
       "    }\n",
       "</style>\n",
       "<table border=\"1\" class=\"dataframe\">\n",
       "  <thead>\n",
       "    <tr style=\"text-align: right;\">\n",
       "      <th></th>\n",
       "      <th>email</th>\n",
       "      <th>first</th>\n",
       "    </tr>\n",
       "  </thead>\n",
       "  <tbody>\n",
       "    <tr>\n",
       "      <th>1</th>\n",
       "      <td>mike@gmail.com</td>\n",
       "      <td>Mike</td>\n",
       "    </tr>\n",
       "    <tr>\n",
       "      <th>2</th>\n",
       "      <td>john@gmail.com</td>\n",
       "      <td>John</td>\n",
       "    </tr>\n",
       "  </tbody>\n",
       "</table>\n",
       "</div>"
      ],
      "text/plain": [
       "            email first\n",
       "1  mike@gmail.com  Mike\n",
       "2  john@gmail.com  John"
      ]
     },
     "execution_count": 75,
     "metadata": {},
     "output_type": "execute_result"
    }
   ],
   "source": [
    "# Accessing both columns and rows\n",
    "g = df.iloc[ [1,2], [0,1] ]\n",
    "print(\"second row's first and second columns:\")\n",
    "g"
   ]
  },
  {
   "cell_type": "code",
   "execution_count": 89,
   "id": "8bd764ac",
   "metadata": {},
   "outputs": [
    {
     "data": {
      "text/plain": [
       "first     Mike\n",
       "last     Tyson\n",
       "Name: 1, dtype: object"
      ]
     },
     "execution_count": 89,
     "metadata": {},
     "output_type": "execute_result"
    }
   ],
   "source": [
    "# Accessing selected columns of a row (extracts as a Series)\n",
    "h = df.iloc[ 1, 1:3 ]\n",
    "h"
   ]
  },
  {
   "cell_type": "code",
   "execution_count": 87,
   "id": "db4365f5",
   "metadata": {},
   "outputs": [
    {
     "name": "stdout",
     "output_type": "stream",
     "text": [
      "element in second column and second row:\n"
     ]
    },
    {
     "data": {
      "text/plain": [
       "'Doe'"
      ]
     },
     "execution_count": 87,
     "metadata": {},
     "output_type": "execute_result"
    }
   ],
   "source": [
    "# Accessing a single element from DataFrame\n",
    "i = df.iloc[ 2,2 ]\n",
    "print('element in second column and second row:')\n",
    "i"
   ]
  }
 ],
 "metadata": {
  "kernelspec": {
   "display_name": "Python 3 (ipykernel)",
   "language": "python",
   "name": "python3"
  },
  "language_info": {
   "codemirror_mode": {
    "name": "ipython",
    "version": 3
   },
   "file_extension": ".py",
   "mimetype": "text/x-python",
   "name": "python",
   "nbconvert_exporter": "python",
   "pygments_lexer": "ipython3",
   "version": "3.11.7"
  }
 },
 "nbformat": 4,
 "nbformat_minor": 5
}
