{
 "cells": [
  {
   "cell_type": "markdown",
   "id": "b78a5108",
   "metadata": {},
   "source": [
    "# Loading a Dataset"
   ]
  },
  {
   "cell_type": "code",
   "execution_count": null,
   "id": "084a02d4",
   "metadata": {},
   "outputs": [],
   "source": [
    "import pandas as pd"
   ]
  },
  {
   "cell_type": "code",
   "execution_count": null,
   "id": "e06863d5",
   "metadata": {},
   "outputs": [],
   "source": [
    "# A Pandas DataFrame is a 2D data structure or 2D array\n",
    "# Loading dataset csv file from the directory\n",
    "df = pd.read_csv('dataset/survey_results_public.csv')"
   ]
  },
  {
   "cell_type": "code",
   "execution_count": null,
   "id": "33b83704",
   "metadata": {},
   "outputs": [],
   "source": [
    "df"
   ]
  },
  {
   "cell_type": "code",
   "execution_count": null,
   "id": "8fae10a8",
   "metadata": {},
   "outputs": [],
   "source": [
    "# Shape of DataFrame\n",
    "df.shape"
   ]
  },
  {
   "cell_type": "code",
   "execution_count": null,
   "id": "1ebbb0dd",
   "metadata": {},
   "outputs": [],
   "source": [
    "# Detailed information about dataset, columns, rows and datatypes\n",
    "df.info()\n",
    "# Dtype = object usually means strings"
   ]
  },
  {
   "cell_type": "code",
   "execution_count": null,
   "id": "843412bc",
   "metadata": {},
   "outputs": [],
   "source": [
    "# By default, 25 columns are shown by pandas. You can change it by using this command:\n",
    "pd.set_option('display.max_columns', 85)"
   ]
  },
  {
   "cell_type": "code",
   "execution_count": null,
   "id": "166cc276",
   "metadata": {},
   "outputs": [],
   "source": [
    "schema_df = pd.read_csv('dataset/survey_results_schema.csv')"
   ]
  },
  {
   "cell_type": "code",
   "execution_count": null,
   "id": "17f8dee5",
   "metadata": {},
   "outputs": [],
   "source": [
    "schema_df"
   ]
  },
  {
   "cell_type": "code",
   "execution_count": null,
   "id": "d8e0a252",
   "metadata": {},
   "outputs": [],
   "source": [
    "# By default, 10 rows are shown by pandas. You can change it by using this command:\n",
    "pd.set_option('display.max_rows', 85)"
   ]
  },
  {
   "cell_type": "code",
   "execution_count": null,
   "id": "e820eacd",
   "metadata": {
    "scrolled": true
   },
   "outputs": [],
   "source": [
    "schema_df"
   ]
  },
  {
   "cell_type": "code",
   "execution_count": null,
   "id": "cf8db3bd",
   "metadata": {},
   "outputs": [],
   "source": [
    "# Showing first 5 rows\n",
    "df.head()"
   ]
  },
  {
   "cell_type": "code",
   "execution_count": null,
   "id": "66fd6468",
   "metadata": {},
   "outputs": [],
   "source": [
    "# Showing first n rows\n",
    "# Syntax: df.head(n)\n",
    "df.head(10)"
   ]
  },
  {
   "cell_type": "code",
   "execution_count": null,
   "id": "745c7edc",
   "metadata": {},
   "outputs": [],
   "source": [
    "# Showing last 5 rows\n",
    "df.tail()"
   ]
  },
  {
   "cell_type": "code",
   "execution_count": null,
   "id": "2c6bf71a",
   "metadata": {},
   "outputs": [],
   "source": [
    "# Showing last n rows\n",
    "df.tail(10)"
   ]
  }
 ],
 "metadata": {
  "kernelspec": {
   "display_name": "Python 3 (ipykernel)",
   "language": "python",
   "name": "python3"
  },
  "language_info": {
   "codemirror_mode": {
    "name": "ipython",
    "version": 3
   },
   "file_extension": ".py",
   "mimetype": "text/x-python",
   "name": "python",
   "nbconvert_exporter": "python",
   "pygments_lexer": "ipython3",
   "version": "3.11.7"
  }
 },
 "nbformat": 4,
 "nbformat_minor": 5
}
